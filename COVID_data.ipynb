{
 "cells": [
  {
   "cell_type": "code",
   "execution_count": 2,
   "metadata": {},
   "outputs": [
    {
     "name": "stdout",
     "output_type": "stream",
     "text": [
      "      countyFIPS  population\n",
      "0              0           0\n",
      "1           1001       55869\n",
      "2           1003      223234\n",
      "3           1005       24686\n",
      "4           1007       22394\n",
      "...          ...         ...\n",
      "3190       56037       42343\n",
      "3191       56039       23464\n",
      "3192       56041       20226\n",
      "3193       56043        7805\n",
      "3194       56045        6927\n",
      "\n",
      "[3195 rows x 2 columns]\n"
     ]
    }
   ],
   "source": [
    "import pandas as pd\n",
    "\n",
    "col_list = [\"countyFIPS\", \"population\"]\n",
    "county_population = pd.read_csv(\"covid_county_population_usafacts.csv\", usecols=col_list)\n",
    "\n",
    "print(county_population)"
   ]
  },
  {
   "cell_type": "code",
   "execution_count": 3,
   "metadata": {},
   "outputs": [
    {
     "name": "stdout",
     "output_type": "stream",
     "text": [
      "      countyFIPS  cumul_confirmed\n",
      "0              0                0\n",
      "1           1001             2230\n",
      "2           1003             7097\n",
      "3           1005             1080\n",
      "4           1007              907\n",
      "...          ...              ...\n",
      "3190       56037              658\n",
      "3191       56039              897\n",
      "3192       56041              529\n",
      "3193       56043              179\n",
      "3194       56045              203\n",
      "\n",
      "[3195 rows x 2 columns]\n"
     ]
    }
   ],
   "source": [
    "col_list2 = [\"countyFIPS\", \"cumul_confirmed\"]\n",
    "county_confirmed_cases = pd.read_csv(\"covid_confirmed_usafacts.csv\", usecols = col_list2)\n",
    "\n",
    "county_confirmed = county_confirmed_cases[\"cumul_confirmed\"]\n",
    "\n",
    "print(county_confirmed_cases)"
   ]
  },
  {
   "cell_type": "code",
   "execution_count": 7,
   "metadata": {},
   "outputs": [
    {
     "name": "stdout",
     "output_type": "stream",
     "text": [
      "      countyFIPS  cumul_death\n",
      "0              0            0\n",
      "1           1001           30\n",
      "2           1003           77\n",
      "3           1005            9\n",
      "4           1007           15\n",
      "...          ...          ...\n",
      "3190       56037            4\n",
      "3191       56039            2\n",
      "3192       56041            3\n",
      "3193       56043            7\n",
      "3194       56045            0\n",
      "\n",
      "[3195 rows x 2 columns]\n"
     ]
    }
   ],
   "source": [
    "col_list3 = [\"countyFIPS\", \"cumul_death\"]\n",
    "county_death_cases = pd.read_csv(\"covid_deaths_usafacts.csv\", usecols = col_list3)\n",
    "\n",
    "county_death = county_death_cases[\"cumul_death\"]\n",
    "print(county_death_cases)"
   ]
  },
  {
   "cell_type": "code",
   "execution_count": 8,
   "metadata": {},
   "outputs": [
    {
     "name": "stdout",
     "output_type": "stream",
     "text": [
      "      countyFIPS  population  cumul_confirmed  cumul_death\n",
      "0              0           0                0            0\n",
      "1           1001       55869             2230           30\n",
      "2           1003      223234             7097           77\n",
      "3           1005       24686             1080            9\n",
      "4           1007       22394              907           15\n",
      "...          ...         ...              ...          ...\n",
      "3190       56037       42343              658            4\n",
      "3191       56039       23464              897            2\n",
      "3192       56041       20226              529            3\n",
      "3193       56043        7805              179            7\n",
      "3194       56045        6927              203            0\n",
      "\n",
      "[3195 rows x 4 columns]\n"
     ]
    }
   ],
   "source": [
    "result = pd.concat([county_population, county_confirmed, county_death], axis=1)\n",
    "\n",
    "print(result)"
   ]
  },
  {
   "cell_type": "code",
   "execution_count": null,
   "metadata": {},
   "outputs": [],
   "source": []
  }
 ],
 "metadata": {
  "kernelspec": {
   "display_name": "Python 3",
   "language": "python",
   "name": "python3"
  },
  "language_info": {
   "codemirror_mode": {
    "name": "ipython",
    "version": 3
   },
   "file_extension": ".py",
   "mimetype": "text/x-python",
   "name": "python",
   "nbconvert_exporter": "python",
   "pygments_lexer": "ipython3",
   "version": "3.7.4"
  }
 },
 "nbformat": 4,
 "nbformat_minor": 2
}
