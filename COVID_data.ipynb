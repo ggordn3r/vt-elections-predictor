{
 "cells": [
  {
   "cell_type": "code",
   "execution_count": 2,
   "metadata": {},
   "outputs": [
    {
     "name": "stdout",
     "output_type": "stream",
     "text": [
      "      countyFIPS  population\n",
      "0           1001       55869\n",
      "1           1003      223234\n",
      "2           1005       24686\n",
      "3           1007       22394\n",
      "4           1009       57826\n",
      "...          ...         ...\n",
      "3139       56037       42343\n",
      "3140       56039       23464\n",
      "3141       56041       20226\n",
      "3142       56043        7805\n",
      "3143       56045        6927\n",
      "\n",
      "[3144 rows x 2 columns]\n"
     ]
    }
   ],
   "source": [
    "#reading data of population per county in the United States in 2020 from CDC\n",
    "\n",
    "import pandas as pd\n",
    "\n",
    "col_list = [\"countyFIPS\", \"population\"]\n",
    "county_population = pd.read_csv(\"covid_county_population_usafacts.csv\", usecols=col_list)\n",
    "\n",
    "print(county_population)\n",
    "\n"
   ]
  },
  {
   "cell_type": "code",
   "execution_count": 3,
   "metadata": {},
   "outputs": [
    {
     "name": "stdout",
     "output_type": "stream",
     "text": [
      "      countyFIPS  cumul_confirmed\n",
      "0           1001         0.039915\n",
      "1           1003         0.031792\n",
      "2           1005         0.043749\n",
      "3           1007         0.040502\n",
      "4           1009         0.038426\n",
      "...          ...              ...\n",
      "3139       56037         0.015540\n",
      "3140       56039         0.038229\n",
      "3141       56041         0.026154\n",
      "3142       56043         0.022934\n",
      "3143       56045         0.029306\n",
      "\n",
      "[3144 rows x 2 columns]\n"
     ]
    }
   ],
   "source": [
    "#Reading data of cumulative confirmed cases up to the election date, 11/03/2020. Source CDC\n",
    "\n",
    "col_list2 = [\"countyFIPS\", \"cumul_confirmed\"]\n",
    "county_confirmed_cases = pd.read_csv(\"covid_confirmed_usafacts.csv\", usecols = col_list2)\n",
    "\n",
    "county_confirmed_cases[\"cumul_confirmed\"] = county_confirmed_cases[\"cumul_confirmed\"]/county_population[\"population\"]\n",
    "\n",
    "print(county_confirmed_cases)"
   ]
  },
  {
   "cell_type": "code",
   "execution_count": 4,
   "metadata": {},
   "outputs": [
    {
     "name": "stdout",
     "output_type": "stream",
     "text": [
      "      countyFIPS  cumul_death\n",
      "0           1001     0.000537\n",
      "1           1003     0.000345\n",
      "2           1005     0.000365\n",
      "3           1007     0.000670\n",
      "4           1009     0.000432\n",
      "...          ...          ...\n",
      "3139       56037     0.000094\n",
      "3140       56039     0.000085\n",
      "3141       56041     0.000148\n",
      "3142       56043     0.000897\n",
      "3143       56045     0.000000\n",
      "\n",
      "[3144 rows x 2 columns]\n"
     ]
    }
   ],
   "source": [
    "# reading data of cumulative death per county due to COVID-19 up to the election date 11/03/2020. Source CDC\n",
    "\n",
    "col_list3 = [\"countyFIPS\", \"cumul_death\"]\n",
    "county_death_cases = pd.read_csv(\"covid_deaths_usafacts.csv\", usecols = col_list3)\n",
    "\n",
    "county_death_cases[\"cumul_death\"] = county_death_cases[\"cumul_death\"]/county_population[\"population\"]\n",
    "print(county_death_cases)"
   ]
  },
  {
   "cell_type": "code",
   "execution_count": 5,
   "metadata": {},
   "outputs": [
    {
     "name": "stdout",
     "output_type": "stream",
     "text": [
      "      countyFIPS  cumul_confirmed  cumul_death\n",
      "0           1001         0.039915     0.000537\n",
      "1           1003         0.031792     0.000345\n",
      "2           1005         0.043749     0.000365\n",
      "3           1007         0.040502     0.000670\n",
      "4           1009         0.038426     0.000432\n",
      "...          ...              ...          ...\n",
      "3139       56037         0.015540     0.000094\n",
      "3140       56039         0.038229     0.000085\n",
      "3141       56041         0.026154     0.000148\n",
      "3142       56043         0.022934     0.000897\n",
      "3143       56045         0.029306     0.000000\n",
      "\n",
      "[3144 rows x 3 columns]\n"
     ]
    }
   ],
   "source": [
    "# Concatanating three databases using countyFIPS. \n",
    "\n",
    "result = pd.concat([county_confirmed_cases[\"countyFIPS\"], county_confirmed_cases[\"cumul_confirmed\"], county_death_cases[\"cumul_death\"]], axis=1)\n",
    "\n",
    "# normalize data using population column\n",
    "\n",
    "#result[\"cumul_confirmed\"] = result[\"cumul_confirmed\"]/result[\"population\"]\n",
    "#result[\"cumul_death\"] = result[\"cumul_death\"]/result[\"population\"]\n",
    "\n",
    "print(result)"
   ]
  },
  {
   "cell_type": "code",
   "execution_count": 16,
   "metadata": {},
   "outputs": [
    {
     "name": "stdout",
     "output_type": "stream",
     "text": [
      "           workplaces_percent_change_from_baseline\n",
      "                                              mean\n",
      "countyFIPS                                        \n",
      "1001.0                                  -22.346715\n",
      "1003.0                                  -22.039286\n",
      "1005.0                                  -17.631373\n",
      "1007.0                                  -19.058824\n",
      "1009.0                                  -22.967153\n",
      "...                                            ...\n",
      "56037.0                                 -18.930502\n",
      "56039.0                                 -32.200000\n",
      "56041.0                                 -16.019608\n",
      "56043.0                                 -19.651934\n",
      "56045.0                                 -22.675978\n",
      "\n",
      "[2798 rows x 1 columns]\n"
     ]
    }
   ],
   "source": [
    "#Google's County Level Mobility Changes After COVID-19 Pandemic Hit\n",
    "\n",
    "import numpy as np\n",
    "from numpy import nan\n",
    "\n",
    "\n",
    "# 2 elements of workplace change and retail and recreation change from baseline due to COVID restrictions are picked for this study\n",
    "\n",
    "col_list4 = [\"countyFIPS\",\"workplaces_percent_change_from_baseline\"]\n",
    "county_mobility = pd.read_csv(\"2020_US_Region_Mobility_Report.csv\", usecols = col_list4)\n",
    "county_mobility = county_mobility.dropna()\n",
    "county_mobility = county_mobility.reset_index(drop=True)\n",
    "# in order to calculate the mean, we eliminate cells with no data to get a more accurate mean \n",
    "\n",
    "#county_mobility[\"retail_and_recreation_percent_change_from_baseline\"] = county_mobility[\"retail_and_recreation_percent_change_from_baseline\"].replace(nan,0)\n",
    "\n",
    "# this dataset includes all these indexes daily. We need to aggregate them by the countyFIPS to get the mean index per county up to the election date\n",
    "\n",
    "county_mobility = county_mobility.groupby('countyFIPS').agg({'workplaces_percent_change_from_baseline':['mean']})\n",
    "\n",
    "print(county_mobility)"
   ]
  },
  {
   "cell_type": "code",
   "execution_count": 17,
   "metadata": {},
   "outputs": [
    {
     "name": "stdout",
     "output_type": "stream",
     "text": [
      "      countyFIPS  cumul_confirmed  cumul_death  \\\n",
      "0           1001         0.039915     0.000537   \n",
      "1           1003         0.031792     0.000345   \n",
      "2           1005         0.043749     0.000365   \n",
      "3           1007         0.040502     0.000670   \n",
      "4           1009         0.038426     0.000432   \n",
      "...          ...              ...          ...   \n",
      "2793       56037         0.015540     0.000094   \n",
      "2794       56039         0.038229     0.000085   \n",
      "2795       56041         0.026154     0.000148   \n",
      "2796       56043         0.022934     0.000897   \n",
      "2797       56045         0.029306     0.000000   \n",
      "\n",
      "      (workplaces_percent_change_from_baseline, mean)  \n",
      "0                                          -22.346715  \n",
      "1                                          -22.039286  \n",
      "2                                          -17.631373  \n",
      "3                                          -19.058824  \n",
      "4                                          -22.967153  \n",
      "...                                               ...  \n",
      "2793                                       -18.930502  \n",
      "2794                                       -32.200000  \n",
      "2795                                       -16.019608  \n",
      "2796                                       -19.651934  \n",
      "2797                                       -22.675978  \n",
      "\n",
      "[2798 rows x 4 columns]\n"
     ]
    }
   ],
   "source": [
    "# we use left join to merge the mobility data and the COVID data together. \n",
    "# we use left join because there are some counties with no mobility data yet the COVID data should be merged.\n",
    "\n",
    "result_with_mobility = pd.merge(left = result, right = county_mobility, how='inner', left_on='countyFIPS', right_on='countyFIPS')\n",
    "\n",
    "print(result_with_mobility)"
   ]
  },
  {
   "cell_type": "code",
   "execution_count": 38,
   "metadata": {},
   "outputs": [
    {
     "name": "stdout",
     "output_type": "stream",
     "text": [
      "      binary_2016  votes_dem  votes_gop  total_votes  combined_fips\n",
      "0             1.0       5908      18110        24661           1001\n",
      "1             1.0      18409      72780        94090           1003\n",
      "2             1.0       4848       5431        10390           1005\n",
      "3             1.0       1874       6733         8748           1007\n",
      "4             1.0       2150      22808        25384           1009\n",
      "...           ...        ...        ...          ...            ...\n",
      "3136          1.0       3233      12153        16661          56037\n",
      "3137          0.0       7313       3920        12176          56039\n",
      "3138          1.0       1202       6154         8053          56041\n",
      "3139          1.0        532       2911         3715          56043\n",
      "3140          1.0        294       2898         3334          56045\n",
      "\n",
      "[3141 rows x 5 columns]\n"
     ]
    },
    {
     "name": "stderr",
     "output_type": "stream",
     "text": [
      "/Users/niloofar/opt/anaconda3/lib/python3.7/site-packages/ipykernel_launcher.py:10: SettingWithCopyWarning: \n",
      "A value is trying to be set on a copy of a slice from a DataFrame\n",
      "\n",
      "See the caveats in the documentation: http://pandas.pydata.org/pandas-docs/stable/user_guide/indexing.html#returning-a-view-versus-a-copy\n",
      "  # Remove the CWD from sys.path while we load stuff.\n",
      "/Users/niloofar/opt/anaconda3/lib/python3.7/site-packages/ipykernel_launcher.py:11: SettingWithCopyWarning: \n",
      "A value is trying to be set on a copy of a slice from a DataFrame\n",
      "\n",
      "See the caveats in the documentation: http://pandas.pydata.org/pandas-docs/stable/user_guide/indexing.html#returning-a-view-versus-a-copy\n",
      "  # This is added back by InteractiveShellApp.init_path()\n"
     ]
    }
   ],
   "source": [
    "# reading voting data in 2016 per county per DEM and GOP\n",
    "\n",
    "col_list5 = [\"combined_fips\", \"votes_dem\", \"votes_gop\",\"total_votes\" ]\n",
    "vote2016 = pd.read_csv(\"2016.csv\", usecols = col_list5)\n",
    "\n",
    "binary_2016 = vote2016[\"votes_gop\"]/vote2016[\"votes_dem\"]\n",
    "\n",
    "vote2016.insert(0, \"binary_2016\", value = binary_2016)\n",
    "\n",
    "vote2016[\"binary_2016\"][vote2016[\"binary_2016\"] >= 1] = 1\n",
    "vote2016[\"binary_2016\"][vote2016[\"binary_2016\"] < 1] = 0\n",
    "\n",
    "print(vote2016)"
   ]
  },
  {
   "cell_type": "code",
   "execution_count": 52,
   "metadata": {},
   "outputs": [
    {
     "name": "stdout",
     "output_type": "stream",
     "text": [
      "      binary_2020  county_fips  votes_gop  votes_dem  total_votes\n",
      "0             1.0         1001      19764       7450        27639\n",
      "1             1.0         1003      83055      24344       108945\n",
      "2             1.0         1005       5605       4772        10457\n",
      "3             1.0         1007       7508       1982         9573\n",
      "4             1.0         1009      24595       2627        27459\n",
      "...           ...          ...        ...        ...          ...\n",
      "3136          1.0        56037      12197       3822        16489\n",
      "3137          0.0        56039       4341       9848        14677\n",
      "3138          1.0        56041       7494       1591         9400\n",
      "3139          1.0        56043       3245        651         4012\n",
      "3140          1.0        56045       3107        360         3542\n",
      "\n",
      "[3141 rows x 5 columns]\n"
     ]
    },
    {
     "name": "stderr",
     "output_type": "stream",
     "text": [
      "/Users/niloofar/opt/anaconda3/lib/python3.7/site-packages/ipykernel_launcher.py:10: SettingWithCopyWarning: \n",
      "A value is trying to be set on a copy of a slice from a DataFrame\n",
      "\n",
      "See the caveats in the documentation: http://pandas.pydata.org/pandas-docs/stable/user_guide/indexing.html#returning-a-view-versus-a-copy\n",
      "  # Remove the CWD from sys.path while we load stuff.\n",
      "/Users/niloofar/opt/anaconda3/lib/python3.7/site-packages/ipykernel_launcher.py:11: SettingWithCopyWarning: \n",
      "A value is trying to be set on a copy of a slice from a DataFrame\n",
      "\n",
      "See the caveats in the documentation: http://pandas.pydata.org/pandas-docs/stable/user_guide/indexing.html#returning-a-view-versus-a-copy\n",
      "  # This is added back by InteractiveShellApp.init_path()\n"
     ]
    }
   ],
   "source": [
    "# reading voting data in 2020 per county per DEM and GOP\n",
    "\n",
    "col_list6 = [\"county_fips\", \"votes_dem\", \"votes_gop\",\"total_votes\" ]\n",
    "vote2020 = pd.read_csv(\"2020.csv\", usecols = col_list6)\n",
    "\n",
    "binary_2020 = vote2020[\"votes_gop\"]/vote2020[\"votes_dem\"]\n",
    "\n",
    "vote2020.insert(0, \"binary_2020\", value = binary_2020)\n",
    "\n",
    "vote2020[\"binary_2020\"][vote2020[\"binary_2020\"] >= 1] = 1\n",
    "vote2020[\"binary_2020\"][vote2020[\"binary_2020\"] < 1] = 0\n",
    "\n",
    "vote2020 = vote2020.dropna()\n",
    "print(vote2020)"
   ]
  },
  {
   "cell_type": "code",
   "execution_count": 53,
   "metadata": {},
   "outputs": [
    {
     "name": "stdout",
     "output_type": "stream",
     "text": [
      "      binary_2016  votes_dem_x  votes_gop_x  total_votes_x  combined_fips  \\\n",
      "0             1.0         5908        18110          24661           1001   \n",
      "1             1.0        18409        72780          94090           1003   \n",
      "2             1.0         4848         5431          10390           1005   \n",
      "3             1.0         1874         6733           8748           1007   \n",
      "4             1.0         2150        22808          25384           1009   \n",
      "...           ...          ...          ...            ...            ...   \n",
      "2792          1.0         3233        12153          16661          56037   \n",
      "2793          0.0         7313         3920          12176          56039   \n",
      "2794          1.0         1202         6154           8053          56041   \n",
      "2795          1.0          532         2911           3715          56043   \n",
      "2796          1.0          294         2898           3334          56045   \n",
      "\n",
      "      countyFIPS  cumul_confirmed  cumul_death  \\\n",
      "0           1001         0.039915     0.000537   \n",
      "1           1003         0.031792     0.000345   \n",
      "2           1005         0.043749     0.000365   \n",
      "3           1007         0.040502     0.000670   \n",
      "4           1009         0.038426     0.000432   \n",
      "...          ...              ...          ...   \n",
      "2792       56037         0.015540     0.000094   \n",
      "2793       56039         0.038229     0.000085   \n",
      "2794       56041         0.026154     0.000148   \n",
      "2795       56043         0.022934     0.000897   \n",
      "2796       56045         0.029306     0.000000   \n",
      "\n",
      "      (workplaces_percent_change_from_baseline, mean)  binary_2020  \\\n",
      "0                                          -22.346715          1.0   \n",
      "1                                          -22.039286          1.0   \n",
      "2                                          -17.631373          1.0   \n",
      "3                                          -19.058824          1.0   \n",
      "4                                          -22.967153          1.0   \n",
      "...                                               ...          ...   \n",
      "2792                                       -18.930502          1.0   \n",
      "2793                                       -32.200000          0.0   \n",
      "2794                                       -16.019608          1.0   \n",
      "2795                                       -19.651934          1.0   \n",
      "2796                                       -22.675978          1.0   \n",
      "\n",
      "      county_fips  votes_gop_y  votes_dem_y  total_votes_y  \n",
      "0            1001        19764         7450          27639  \n",
      "1            1003        83055        24344         108945  \n",
      "2            1005         5605         4772          10457  \n",
      "3            1007         7508         1982           9573  \n",
      "4            1009        24595         2627          27459  \n",
      "...           ...          ...          ...            ...  \n",
      "2792        56037        12197         3822          16489  \n",
      "2793        56039         4341         9848          14677  \n",
      "2794        56041         7494         1591           9400  \n",
      "2795        56043         3245          651           4012  \n",
      "2796        56045         3107          360           3542  \n",
      "\n",
      "[2797 rows x 14 columns]\n"
     ]
    }
   ],
   "source": [
    "# combining all X and Y data to prepare it for using in prediction models.\n",
    "\n",
    "vote_covid = pd.merge(left = vote2016 , right = result_with_mobility, how='inner', left_on='combined_fips', right_on='countyFIPS')\n",
    "\n",
    "vote_covid = pd.merge(left = vote_covid , right = vote2020, how = 'inner', left_on = 'countyFIPS', right_on = 'county_fips')\n",
    "print(vote_covid)\n"
   ]
  },
  {
   "cell_type": "code",
   "execution_count": 61,
   "metadata": {},
   "outputs": [
    {
     "name": "stdout",
     "output_type": "stream",
     "text": [
      "Confusion Matrix:  [[128  12]\n",
      " [  2 418]]\n",
      " MSE:  0.025\n",
      "Confusion Matrix:  [[ 53   9]\n",
      " [  1 497]]\n",
      " MSE:  0.017857142857142856\n",
      "Confusion Matrix:  [[ 97  17]\n",
      " [  4 441]]\n",
      " MSE:  0.03756708407871199\n",
      "Confusion Matrix:  [[ 76   8]\n",
      " [  6 469]]\n",
      " MSE:  0.025044722719141325\n",
      "Confusion Matrix:  [[ 96  14]\n",
      " [  8 441]]\n",
      " MSE:  0.03935599284436494\n",
      "average accuracy:  0.9710350115001278\n"
     ]
    },
    {
     "name": "stderr",
     "output_type": "stream",
     "text": [
      "/Users/niloofar/opt/anaconda3/lib/python3.7/site-packages/sklearn/linear_model/logistic.py:432: FutureWarning: Default solver will be changed to 'lbfgs' in 0.22. Specify a solver to silence this warning.\n",
      "  FutureWarning)\n",
      "/Users/niloofar/opt/anaconda3/lib/python3.7/site-packages/sklearn/linear_model/logistic.py:432: FutureWarning: Default solver will be changed to 'lbfgs' in 0.22. Specify a solver to silence this warning.\n",
      "  FutureWarning)\n",
      "/Users/niloofar/opt/anaconda3/lib/python3.7/site-packages/sklearn/linear_model/logistic.py:432: FutureWarning: Default solver will be changed to 'lbfgs' in 0.22. Specify a solver to silence this warning.\n",
      "  FutureWarning)\n",
      "/Users/niloofar/opt/anaconda3/lib/python3.7/site-packages/sklearn/linear_model/logistic.py:432: FutureWarning: Default solver will be changed to 'lbfgs' in 0.22. Specify a solver to silence this warning.\n",
      "  FutureWarning)\n",
      "/Users/niloofar/opt/anaconda3/lib/python3.7/site-packages/sklearn/linear_model/logistic.py:432: FutureWarning: Default solver will be changed to 'lbfgs' in 0.22. Specify a solver to silence this warning.\n",
      "  FutureWarning)\n"
     ]
    }
   ],
   "source": [
    "# creating a model using logistic regression including the mobility changes from the base to the COVID-19 data\n",
    "# 2020 voting counts has not been finished yet. Therefore, there are about 145 counties not included in the analysis\n",
    "\n",
    "import numpy as np\n",
    "from numpy import nan\n",
    "from sklearn.model_selection import KFold\n",
    "from sklearn.linear_model import LogisticRegression\n",
    "from sklearn.model_selection import cross_val_score\n",
    "from sklearn.metrics import classification_report, confusion_matrix\n",
    "from sklearn.metrics import mean_squared_error\n",
    "\n",
    "X = np.array(vote_covid.iloc[:, [0, 6, 7,8]])\n",
    "y = np.array(vote_covid.iloc[:, 9])\n",
    "\n",
    "\n",
    "kf = KFold(n_splits=5)\n",
    "kf.get_n_splits(X)\n",
    "\n",
    "score = []\n",
    "for train_index, test_index in kf.split(X):\n",
    "    X_train, X_test = X[train_index], X[test_index]\n",
    "    y_train, y_test = y[train_index], y[test_index]\n",
    "    log = LogisticRegression(random_state=0).fit(X_train, y_train)\n",
    "    score.append(log.score(X_test, y_test))\n",
    "    prediction = log.predict(X_test)\n",
    "    print(\"Confusion Matrix: \", confusion_matrix(y_test, prediction))\n",
    "    print(\" MSE: \", mean_squared_error(y_test, prediction))\n",
    "\n",
    "print(\"average accuracy: \", sum(score)/5)"
   ]
  },
  {
   "cell_type": "code",
   "execution_count": 63,
   "metadata": {
    "scrolled": true
   },
   "outputs": [
    {
     "name": "stdout",
     "output_type": "stream",
     "text": [
      "[[ 52  88]\n",
      " [ 24 396]]\n",
      "              precision    recall  f1-score   support\n",
      "\n",
      "         0.0       0.68      0.37      0.48       140\n",
      "         1.0       0.82      0.94      0.88       420\n",
      "\n",
      "    accuracy                           0.80       560\n",
      "   macro avg       0.75      0.66      0.68       560\n",
      "weighted avg       0.78      0.80      0.78       560\n",
      "\n",
      "0.8\n",
      "[[ 29  33]\n",
      " [ 36 462]]\n",
      "              precision    recall  f1-score   support\n",
      "\n",
      "         0.0       0.45      0.47      0.46        62\n",
      "         1.0       0.93      0.93      0.93       498\n",
      "\n",
      "    accuracy                           0.88       560\n",
      "   macro avg       0.69      0.70      0.69       560\n",
      "weighted avg       0.88      0.88      0.88       560\n",
      "\n",
      "0.8767857142857143\n",
      "[[ 50  64]\n",
      " [ 32 413]]\n",
      "              precision    recall  f1-score   support\n",
      "\n",
      "         0.0       0.61      0.44      0.51       114\n",
      "         1.0       0.87      0.93      0.90       445\n",
      "\n",
      "    accuracy                           0.83       559\n",
      "   macro avg       0.74      0.68      0.70       559\n",
      "weighted avg       0.81      0.83      0.82       559\n",
      "\n",
      "0.8282647584973166\n",
      "[[ 24  60]\n",
      " [ 27 448]]\n",
      "              precision    recall  f1-score   support\n",
      "\n",
      "         0.0       0.47      0.29      0.36        84\n",
      "         1.0       0.88      0.94      0.91       475\n",
      "\n",
      "    accuracy                           0.84       559\n",
      "   macro avg       0.68      0.61      0.63       559\n",
      "weighted avg       0.82      0.84      0.83       559\n",
      "\n",
      "0.8443649373881932\n",
      "[[ 51  59]\n",
      " [ 37 412]]\n",
      "              precision    recall  f1-score   support\n",
      "\n",
      "         0.0       0.58      0.46      0.52       110\n",
      "         1.0       0.87      0.92      0.90       449\n",
      "\n",
      "    accuracy                           0.83       559\n",
      "   macro avg       0.73      0.69      0.71       559\n",
      "weighted avg       0.82      0.83      0.82       559\n",
      "\n",
      "0.8282647584973166\n",
      "average accuracy:  0.8355360337337082\n"
     ]
    }
   ],
   "source": [
    "from sklearn.ensemble import RandomForestClassifier \n",
    "from sklearn.metrics import classification_report, confusion_matrix, accuracy_score\n",
    "\n",
    "\n",
    "X = np.array(vote_covid.iloc[:, [6, 7,8]])\n",
    "y = np.array(vote_covid.iloc[:, 9])\n",
    "\n",
    "\n",
    "kf = KFold(n_splits=5)\n",
    "kf.get_n_splits(X)\n",
    "\n",
    "score2 = []\n",
    "for train_index, test_index in kf.split(X):\n",
    "    X_train, X_test = X[train_index], X[test_index]\n",
    "    y_train, y_test = y[train_index], y[test_index]\n",
    "    classifier = RandomForestClassifier(n_estimators=1000, random_state=0)\n",
    "    classifier.fit(X_train, y_train) \n",
    "    y_pred2 = classifier.predict(X_test)\n",
    "    score2.append(classifier.score(X_test, y_test))\n",
    "    print(confusion_matrix(y_test, y_pred2))\n",
    "    print(classification_report(y_test, y_pred2))\n",
    "    print(accuracy_score(y_test, y_pred2))\n",
    "    \n",
    "\n",
    "    \n",
    "print(\"average accuracy: \", sum(score2)/5)"
   ]
  },
  {
   "cell_type": "code",
   "execution_count": null,
   "metadata": {},
   "outputs": [],
   "source": []
  }
 ],
 "metadata": {
  "kernelspec": {
   "display_name": "Python 3",
   "language": "python",
   "name": "python3"
  },
  "language_info": {
   "codemirror_mode": {
    "name": "ipython",
    "version": 3
   },
   "file_extension": ".py",
   "mimetype": "text/x-python",
   "name": "python",
   "nbconvert_exporter": "python",
   "pygments_lexer": "ipython3",
   "version": "3.7.4"
  }
 },
 "nbformat": 4,
 "nbformat_minor": 2
}
