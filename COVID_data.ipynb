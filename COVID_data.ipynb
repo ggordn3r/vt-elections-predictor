{
 "cells": [
  {
   "cell_type": "code",
   "execution_count": 34,
   "metadata": {},
   "outputs": [
    {
     "name": "stdout",
     "output_type": "stream",
     "text": [
      "      countyFIPS  population\n",
      "0           1001       55869\n",
      "1           1003      223234\n",
      "2           1005       24686\n",
      "3           1007       22394\n",
      "4           1009       57826\n",
      "...          ...         ...\n",
      "3139       56037       42343\n",
      "3140       56039       23464\n",
      "3141       56041       20226\n",
      "3142       56043        7805\n",
      "3143       56045        6927\n",
      "\n",
      "[3144 rows x 2 columns]\n"
     ]
    }
   ],
   "source": [
    "import pandas as pd\n",
    "\n",
    "col_list = [\"countyFIPS\", \"population\"]\n",
    "county_population = pd.read_csv(\"covid_county_population_usafacts.csv\", usecols=col_list)\n",
    "\n",
    "print(county_population)"
   ]
  },
  {
   "cell_type": "code",
   "execution_count": 32,
   "metadata": {},
   "outputs": [
    {
     "name": "stdout",
     "output_type": "stream",
     "text": [
      "      countyFIPS  cumul_confirmed\n",
      "0           1001             2230\n",
      "1           1003             7097\n",
      "2           1005             1080\n",
      "3           1007              907\n",
      "4           1009             2222\n",
      "...          ...              ...\n",
      "3139       56037              658\n",
      "3140       56039              897\n",
      "3141       56041              529\n",
      "3142       56043              179\n",
      "3143       56045              203\n",
      "\n",
      "[3144 rows x 2 columns]\n"
     ]
    }
   ],
   "source": [
    "col_list2 = [\"countyFIPS\", \"cumul_confirmed\"]\n",
    "county_confirmed_cases = pd.read_csv(\"covid_confirmed_usafacts.csv\", usecols = col_list2)\n",
    "\n",
    "county_confirmed = county_confirmed_cases[\"cumul_confirmed\"]\n",
    "\n",
    "print(county_confirmed_cases)"
   ]
  },
  {
   "cell_type": "code",
   "execution_count": 33,
   "metadata": {},
   "outputs": [
    {
     "name": "stdout",
     "output_type": "stream",
     "text": [
      "      countyFIPS  cumul_death\n",
      "0           1001           30\n",
      "1           1003           77\n",
      "2           1005            9\n",
      "3           1007           15\n",
      "4           1009           25\n",
      "...          ...          ...\n",
      "3139       56037            4\n",
      "3140       56039            2\n",
      "3141       56041            3\n",
      "3142       56043            7\n",
      "3143       56045            0\n",
      "\n",
      "[3144 rows x 2 columns]\n"
     ]
    }
   ],
   "source": [
    "col_list3 = [\"countyFIPS\", \"cumul_death\"]\n",
    "county_death_cases = pd.read_csv(\"covid_deaths_usafacts.csv\", usecols = col_list3)\n",
    "\n",
    "county_death = county_death_cases[\"cumul_death\"]\n",
    "print(county_death_cases)"
   ]
  },
  {
   "cell_type": "code",
   "execution_count": 35,
   "metadata": {},
   "outputs": [
    {
     "name": "stdout",
     "output_type": "stream",
     "text": [
      "      countyFIPS  population  cumul_confirmed  cumul_death\n",
      "0           1001       55869             2230           30\n",
      "1           1003      223234             7097           77\n",
      "2           1005       24686             1080            9\n",
      "3           1007       22394              907           15\n",
      "4           1009       57826             2222           25\n",
      "...          ...         ...              ...          ...\n",
      "3139       56037       42343              658            4\n",
      "3140       56039       23464              897            2\n",
      "3141       56041       20226              529            3\n",
      "3142       56043        7805              179            7\n",
      "3143       56045        6927              203            0\n",
      "\n",
      "[3144 rows x 4 columns]\n"
     ]
    }
   ],
   "source": [
    "result = pd.concat([county_population, county_confirmed, county_death], axis=1)\n",
    "\n",
    "print(result)"
   ]
  },
  {
   "cell_type": "code",
   "execution_count": 28,
   "metadata": {},
   "outputs": [
    {
     "name": "stdout",
     "output_type": "stream",
     "text": [
      "           retail_and_recreation_percent_change_from_baseline  \\\n",
      "                                                         mean   \n",
      "countyFIPS                                                      \n",
      "1001.0                                              -5.911290   \n",
      "1003.0                                              -4.888087   \n",
      "1005.0                                               2.809783   \n",
      "1007.0                                               0.823529   \n",
      "1009.0                                              -2.457399   \n",
      "...                                                       ...   \n",
      "56037.0                                             -5.546185   \n",
      "56039.0                                             -8.715556   \n",
      "56041.0                                             11.748503   \n",
      "56043.0                                             -2.975000   \n",
      "56045.0                                            -55.500000   \n",
      "\n",
      "           workplaces_percent_change_from_baseline  \n",
      "                                              mean  \n",
      "countyFIPS                                          \n",
      "1001.0                                  -22.346715  \n",
      "1003.0                                  -22.118280  \n",
      "1005.0                                  -17.770751  \n",
      "1007.0                                  -19.209486  \n",
      "1009.0                                  -23.307407  \n",
      "...                                            ...  \n",
      "56037.0                                 -19.077821  \n",
      "56039.0                                 -32.583333  \n",
      "56041.0                                 -16.340000  \n",
      "56043.0                                 -19.761111  \n",
      "56045.0                                 -23.327586  \n",
      "\n",
      "[2833 rows x 2 columns]\n"
     ]
    }
   ],
   "source": [
    "#Google's County Level Mobility Changes After COVID-19 Pandemic Hit\n",
    "import numpy as np\n",
    "\n",
    "col_list4 = [\"countyFIPS\", \"retail_and_recreation_percent_change_from_baseline\", \"workplaces_percent_change_from_baseline\", \"residential_percent_change_from_baseline\"]\n",
    "county_mobility = pd.read_csv(\"2020_US_Region_Mobility_Report.csv\", usecols = col_list4)\n",
    "county_mobility.replace(0.0, np.nan, inplace=True)\n",
    "county_mobility = county_mobility.groupby('countyFIPS').agg({'retail_and_recreation_percent_change_from_baseline':['mean'], 'workplaces_percent_change_from_baseline':['mean']})\n",
    "print(county_mobility)"
   ]
  },
  {
   "cell_type": "code",
   "execution_count": 38,
   "metadata": {},
   "outputs": [
    {
     "name": "stdout",
     "output_type": "stream",
     "text": [
      "      countyFIPS  population  cumul_confirmed  cumul_death  \\\n",
      "0           1001       55869             2230           30   \n",
      "1           1003      223234             7097           77   \n",
      "2           1005       24686             1080            9   \n",
      "3           1007       22394              907           15   \n",
      "4           1009       57826             2222           25   \n",
      "...          ...         ...              ...          ...   \n",
      "3139       56037       42343              658            4   \n",
      "3140       56039       23464              897            2   \n",
      "3141       56041       20226              529            3   \n",
      "3142       56043        7805              179            7   \n",
      "3143       56045        6927              203            0   \n",
      "\n",
      "      (retail_and_recreation_percent_change_from_baseline, mean)  \\\n",
      "0                                             -5.911290            \n",
      "1                                             -4.888087            \n",
      "2                                              2.809783            \n",
      "3                                              0.823529            \n",
      "4                                             -2.457399            \n",
      "...                                                 ...            \n",
      "3139                                          -5.546185            \n",
      "3140                                          -8.715556            \n",
      "3141                                          11.748503            \n",
      "3142                                          -2.975000            \n",
      "3143                                         -55.500000            \n",
      "\n",
      "      (workplaces_percent_change_from_baseline, mean)  \n",
      "0                                          -22.346715  \n",
      "1                                          -22.118280  \n",
      "2                                          -17.770751  \n",
      "3                                          -19.209486  \n",
      "4                                          -23.307407  \n",
      "...                                               ...  \n",
      "3139                                       -19.077821  \n",
      "3140                                       -32.583333  \n",
      "3141                                       -16.340000  \n",
      "3142                                       -19.761111  \n",
      "3143                                       -23.327586  \n",
      "\n",
      "[3144 rows x 6 columns]\n"
     ]
    },
    {
     "name": "stderr",
     "output_type": "stream",
     "text": [
      "/Users/niloofar/opt/anaconda3/lib/python3.7/site-packages/pandas/core/reshape/merge.py:617: UserWarning: merging between different levels can give an unintended result (1 levels on the left, 2 on the right)\n",
      "  warnings.warn(msg, UserWarning)\n"
     ]
    }
   ],
   "source": [
    "result_with_mobility = pd.merge(left = result, right = county_mobility, how='left', left_on='countyFIPS', right_on='countyFIPS')\n",
    "\n",
    "print(result_with_mobility)"
   ]
  },
  {
   "cell_type": "code",
   "execution_count": null,
   "metadata": {},
   "outputs": [],
   "source": []
  }
 ],
 "metadata": {
  "kernelspec": {
   "display_name": "Python 3",
   "language": "python",
   "name": "python3"
  },
  "language_info": {
   "codemirror_mode": {
    "name": "ipython",
    "version": 3
   },
   "file_extension": ".py",
   "mimetype": "text/x-python",
   "name": "python",
   "nbconvert_exporter": "python",
   "pygments_lexer": "ipython3",
   "version": "3.7.4"
  }
 },
 "nbformat": 4,
 "nbformat_minor": 2
}
