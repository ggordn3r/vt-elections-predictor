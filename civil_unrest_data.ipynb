{
 "cells": [
  {
   "cell_type": "code",
   "execution_count": 17,
   "metadata": {},
   "outputs": [
    {
     "name": "stdout",
     "output_type": "stream",
     "text": [
      "                                          EVENT_DATE FATALITIES\n",
      "                                               count        sum\n",
      "ADMIN1  ADMIN2     EVENT_TYPE                                  \n",
      "Alabama Baldwin    Protests                        5          0\n",
      "        Bibb       Protests                        1          0\n",
      "        Calhoun    Protests                        5          0\n",
      "        Cherokee   Protests                        1          0\n",
      "        Choctaw    Protests                        1          0\n",
      "...                                              ...        ...\n",
      "Wyoming Park       Strategic developments          1          0\n",
      "        Sheridan   Protests                        1          0\n",
      "        Sublette   Protests                        1          0\n",
      "        Sweetwater Protests                        1          0\n",
      "        Teton      Protests                        4          0\n",
      "\n",
      "[2069 rows x 2 columns]\n"
     ]
    }
   ],
   "source": [
    "import pandas as pd\n",
    "col_list = [\"EVENT_DATE\", \"EVENT_TYPE\",\"ADMIN1\",\"ADMIN2\",\"FATALITIES\",\"SUB_EVENT_TYPE\",\"ASSOC_ACTOR_1\",\"ASSOC_ACTOR_2\"]\n",
    "df = pd.read_csv(\"USA_2020.csv\", usecols=col_list)\n",
    "\n",
    "\n",
    "num_unrest_per_county = df.groupby(['ADMIN1', 'ADMIN2', 'EVENT_TYPE']).agg({'EVENT_DATE': ['count'], 'FATALITIES':['sum']})\n",
    "\n",
    "print(num_unrest_per_county)"
   ]
  },
  {
   "cell_type": "code",
   "execution_count": null,
   "metadata": {},
   "outputs": [],
   "source": []
  }
 ],
 "metadata": {
  "kernelspec": {
   "display_name": "Python 3",
   "language": "python",
   "name": "python3"
  },
  "language_info": {
   "codemirror_mode": {
    "name": "ipython",
    "version": 3
   },
   "file_extension": ".py",
   "mimetype": "text/x-python",
   "name": "python",
   "nbconvert_exporter": "python",
   "pygments_lexer": "ipython3",
   "version": "3.7.4"
  }
 },
 "nbformat": 4,
 "nbformat_minor": 2
}
